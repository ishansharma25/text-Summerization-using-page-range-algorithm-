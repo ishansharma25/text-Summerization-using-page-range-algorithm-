{
 "cells": [
  {
   "cell_type": "code",
   "execution_count": 1,
   "metadata": {},
   "outputs": [],
   "source": [
    "\n",
    "import pandas as pd\n",
    "data = pd.read_csv('e:\\data\\wikihowAll.csv')\n",
    "data_title = pd.DataFrame(data, columns=['text'])\n",
    "data_headline = pd.DataFrame(data, columns=['headline'])\n",
    "def g(df):\n",
    "    return df.head(5)\n",
    "data_title = g(data_title.copy())\n",
    "data_headline = g(data_headline.copy())\n",
    "\n",
    "def clean_text(text):\n",
    "    missing_values = text.isnull()\n",
    "    data = text[~missing_values]\n",
    "    data.reset_index(drop=True,inplace=True)\n",
    "    return text\n",
    "cleaned_text = clean_text(data_title)\n",
    "list_from_df = cleaned_text.values.tolist()\n"
   ]
  },
  {
   "cell_type": "code",
   "execution_count": 2,
   "metadata": {},
   "outputs": [
    {
     "name": "stderr",
     "output_type": "stream",
     "text": [
      "c:\\Users\\ishan\\AppData\\Local\\Programs\\Python\\Python311\\Lib\\site-packages\\tqdm\\auto.py:21: TqdmWarning: IProgress not found. Please update jupyter and ipywidgets. See https://ipywidgets.readthedocs.io/en/stable/user_install.html\n",
      "  from .autonotebook import tqdm as notebook_tqdm\n",
      "Some weights of PegasusForConditionalGeneration were not initialized from the model checkpoint at google/pegasus-large and are newly initialized: ['model.encoder.embed_positions.weight', 'model.decoder.embed_positions.weight']\n",
      "You should probably TRAIN this model on a down-stream task to be able to use it for predictions and inference.\n"
     ]
    }
   ],
   "source": [
    "from transformers import PegasusForConditionalGeneration, PegasusTokenizer\n",
    "\n",
    "model_name = \"google/pegasus-large\"\n",
    "tokenizer = PegasusTokenizer.from_pretrained(model_name)\n",
    "model = PegasusForConditionalGeneration.from_pretrained(model_name)"
   ]
  },
  {
   "cell_type": "code",
   "execution_count": 3,
   "metadata": {},
   "outputs": [],
   "source": [
    "def summarizer(text):\n",
    "    inputs = tokenizer(text, max_length=1024, return_tensors=\"pt\", truncation=True)\n",
    "    summary_ids = model.generate(inputs[\"input_ids\"], num_beams=4, min_length=30, max_length=250, early_stopping=True)\n",
    "    summary = tokenizer.decode(summary_ids[0], skip_special_tokens=True)\n",
    "    return summary"
   ]
  },
  {
   "cell_type": "code",
   "execution_count": 4,
   "metadata": {},
   "outputs": [],
   "source": [
    "a=len(cleaned_text)\n"
   ]
  },
  {
   "cell_type": "code",
   "execution_count": 5,
   "metadata": {},
   "outputs": [],
   "source": [
    "summari=[]\n",
    "for i in range(a):\n",
    "    summari.append([summarizer(list_from_df[i])])"
   ]
  },
  {
   "cell_type": "code",
   "execution_count": 6,
   "metadata": {},
   "outputs": [
    {
     "name": "stdout",
     "output_type": "stream",
     "text": [
      "[[\"Infrequent or secondary supplies area, tucked out of the way.;, This doesn't mean cleaning the entire studio, it just means keeping the area immediately around the desk, easel, pottery wheel, etc. Even if the rest of your studio is a bit disorganized, an organized workspace will help you get down to business every time you want to make art. Cheap and easy, this is also a good way to handle papers and ideas you touch regularly or need to pin up and down for inspiration., Shelving is an artist's best friend and is a cheap and easy way to get more room in your studio or art space.\"], ['By measuring the total wall area to be covered, the total amount of paint can be calculated, but since this mural painting requires two colors - white and black - figuring the actual area to be painted each color is necessary to allow purchasing the right amount of each one. For higher work, you may have to rent a scaffold., Mark the horizontal and vertical lines., Use white paint as background., Then begin marking, using your scaled drawing, the location of key elements of objects, located in the foreground.'], ['The availability of internships is another factor to consider.Out of the jobs advertised for VFX artists, a majority at any given time specify a bachelor’s degree as a minimum requirement for applicants.;, Some studios offer short-term programs for people who want to learn more about VFX artistry without pursuing a college degree. Stay informed about the newest software advances by following VFX blogs and taking online computer tutorials.For example, VFX artists are expected to be well-versed in graphics and animation programs, such as Adobe Creative Suite and JavaScript.Clearly list every program that you can work with on your resume.'], ['The best art investors do their research on the pieces of art that they buy, so someone with some education or interest in the art world is more likely to understand this niche market. As well as personal research, you will need to have contacts with people in the art world, such as auctioneers, gallery directors and dealers, who can give you good investment advice.;, You may confuse these three terms, if you are not careful. They seek good advice and often buy paintings that are older and have been popular historically, such as paintings by the Old Masters.'], [\"Keep these organized as a way to prepare both the skills, ideas, and supplies needed for the final project. It's okay to have inspiration scattered around the studio -- just make sure it's the inspiration you need for the current project. A simple spreadsheet or notebook, marked at the end of each artistic session, is a quick and easy way to keep tabs on your stuff.\"]]\n"
     ]
    }
   ],
   "source": [
    "print(summari)\n",
    "#print(cleaned_text)"
   ]
  },
  {
   "cell_type": "code",
   "execution_count": 21,
   "metadata": {},
   "outputs": [],
   "source": [
    "with open(\"E:\\data\\\\file.txt\", \"a\") as f:\n",
    "    f.write(str(summari))"
   ]
  }
 ],
 "metadata": {
  "kernelspec": {
   "display_name": "Python 3",
   "language": "python",
   "name": "python3"
  },
  "language_info": {
   "codemirror_mode": {
    "name": "ipython",
    "version": 3
   },
   "file_extension": ".py",
   "mimetype": "text/x-python",
   "name": "python",
   "nbconvert_exporter": "python",
   "pygments_lexer": "ipython3",
   "version": "3.11.6"
  }
 },
 "nbformat": 4,
 "nbformat_minor": 2
}
